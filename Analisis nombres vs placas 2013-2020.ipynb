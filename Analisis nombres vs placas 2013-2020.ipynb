{
 "cells": [
  {
   "cell_type": "code",
   "execution_count": 1,
   "metadata": {},
   "outputs": [],
   "source": [
    "import pandas as pd"
   ]
  },
  {
   "cell_type": "markdown",
   "metadata": {},
   "source": [
    "# empezamos visualizando los datos originales"
   ]
  },
  {
   "cell_type": "markdown",
   "metadata": {},
   "source": [
    "### extraemos los nombres de todas las hojas del archivo excel para poder manipularlas"
   ]
  },
  {
   "cell_type": "code",
   "execution_count": 3,
   "metadata": {},
   "outputs": [
    {
     "data": {
      "text/plain": [
       "['2020', '2019', '2018', '2017', '2016', '2015', '2014', '2013']"
      ]
     },
     "execution_count": 3,
     "metadata": {},
     "output_type": "execute_result"
    }
   ],
   "source": [
    "data = pd.ExcelFile('malla comparendos 2013 al 2020.xlsx')\n",
    "data.sheet_names"
   ]
  },
  {
   "cell_type": "code",
   "execution_count": 19,
   "metadata": {},
   "outputs": [],
   "source": [
    "data = pd.ExcelFile('malla comparendos 2013 al 2020.xlsx') \n",
    "#forma 1 de separar las hojas en distintos df (tarda mas en cargar)\n",
    "#df1 = data.parse('2013') df2 = data.parse('2014') df3 = data.parse('2015')  df4 = data.parse('2016') df5 = data.parse('2017') \n",
    "#df6 = data.parse('2018') df7 = data.parse('2019') df8 = data.parse('2020')"
   ]
  },
  {
   "cell_type": "code",
   "execution_count": 13,
   "metadata": {},
   "outputs": [],
   "source": [
    "#forma 2 de separar las hojas en distintos df (tarda mucho menos en cargar)\n",
    "#creando un diccionario de todas las hojas para luego convertirlas a dataframe\n",
    "sheet_to_df_map = {}\n",
    "for nombre_hoja in data.sheet_names:\n",
    "    sheet_to_df_map[nombre_hoja] = data.parse(nombre_hoja)"
   ]
  },
  {
   "cell_type": "code",
   "execution_count": 71,
   "metadata": {},
   "outputs": [],
   "source": [
    "#separando las hojas en distintos df\n",
    "df1 = sheet_to_df_map['2013']\n",
    "df2 = sheet_to_df_map['2014']\n",
    "df3 = sheet_to_df_map['2015']\n",
    "df4 = sheet_to_df_map['2016']\n",
    "df5 = sheet_to_df_map['2017']\n",
    "df6 = sheet_to_df_map['2018']\n",
    "df7 = sheet_to_df_map['2019']\n",
    "df8 = sheet_to_df_map['2020']"
   ]
  },
  {
   "cell_type": "markdown",
   "metadata": {},
   "source": [
    "### longitud de los datasets para asegurarnos que todos los datos cargaron correctamente"
   ]
  },
  {
   "cell_type": "code",
   "execution_count": 72,
   "metadata": {},
   "outputs": [
    {
     "data": {
      "text/plain": [
       "(58587, 46768, 43509, 47763, 49028, 58593, 62783, 8594)"
      ]
     },
     "execution_count": 72,
     "metadata": {},
     "output_type": "execute_result"
    }
   ],
   "source": [
    "len(df1),len(df2), len(df3),len(df4),len(df5),len(df6),len(df7),len(df8)"
   ]
  },
  {
   "cell_type": "code",
   "execution_count": 69,
   "metadata": {},
   "outputs": [
    {
     "data": {
      "text/plain": [
       "Index(['numero comparendo', 'tipoc omparendo', 'fecha imposicion',\n",
       "       'hora imposicion', 'fecha notificacion', 'direccion infraccion',\n",
       "       'ciudad', 'infraccion', 'cepo', 'metrolinea', 'chaleco', 'casco',\n",
       "       'pico y placa', 'resolucion_111', 'licencia transito', 'tipo documento',\n",
       "       'documento', 'inmovilizado', 'grua', 'usuario', 'placaagente',\n",
       "       'entidad', 'nombre agente', 'estado', 'tipo resolucion',\n",
       "       'numero resolucion', 'fecha resolucion', 'fecha pago', 'fecha acuerdo',\n",
       "       'placa vehiculo', 'primer nombre', 'segundo nombre', 'primer apellido',\n",
       "       'segundo apellido', 'celular', 'direccion infractor', 'nombre',\n",
       "       'valor comparendo', 'saldo', 'valor pagado', 'curso', 'tipo curso',\n",
       "       'grado', 'clase vehiculo', 'tipo servicio', 'fecha ingreso patio',\n",
       "       'entregado patio', 'fecha entrega patio', 'cargo salida patio',\n",
       "       'funcionario salida patio', 'fecha solicitud audiencia',\n",
       "       'fecha audiencia', 'asistencia audiencia', 'inspeccion audiencia',\n",
       "       'funcionario audiencia', 'licencia suspendida', 'licencia cancelada'],\n",
       "      dtype='object')"
      ]
     },
     "execution_count": 69,
     "metadata": {},
     "output_type": "execute_result"
    }
   ],
   "source": [
    "df1.columns"
   ]
  },
  {
   "cell_type": "markdown",
   "metadata": {},
   "source": [
    "### renombrando columnas para facil manipulacion"
   ]
  },
  {
   "cell_type": "code",
   "execution_count": 77,
   "metadata": {},
   "outputs": [],
   "source": [
    "df1.columns=['ncomp','tcomp','fcomp','hcomp','fnotifi','dirinfrac','ciudad','infrac','cepo','metro','chale','casco','pico','resolu111','licencia','tipodoc','ncedula','inmobi','grua','usuario','placaa','entidad','nomagen','estado','tiresol','nresol','fresol','fpago','facuerdo','placac','primnom','segnom','primapell','segapell','cel','dirinfractor','name','valorcomp','saldo','valpag','curso','ticurso','grado','clasvehicu','classervicio','fingrepatio','entrepatio','fentrepatio','cargsalipatio','funciosalipatio','fsolaudien','faudien','asistenaudien','inspeccaudien','funcioaudien','licensuspen','licencance']\n",
    "df2.columns=['ncomp','tcomp','fcomp','hcomp','fnotifi','dirinfrac','ciudad','infrac','cepo','metro','chale','casco','pico','resolu111','licencia','tipodoc','ncedula','inmobi','grua','usuario','placaa','entidad','nomagen','estado','tiresol','nresol','fresol','fpago','facuerdo','placac','primnom','segnom','primapell','segapell','cel','dirinfractor','name','valorcomp','saldo','valpag','curso','ticurso','grado','clasvehicu','classervicio','fingrepatio','entrepatio','fentrepatio','cargsalipatio','funciosalipatio','fsolaudien','faudien','asistenaudien','inspeccaudien','funcioaudien','licensuspen','licencance']\n",
    "df3.columns=['ncomp','tcomp','fcomp','hcomp','fnotifi','dirinfrac','ciudad','infrac','cepo','metro','chale','casco','pico','resolu111','licencia','tipodoc','ncedula','inmobi','grua','usuario','placaa','entidad','nomagen','estado','tiresol','nresol','fresol','fpago','facuerdo','placac','primnom','segnom','primapell','segapell','cel','dirinfractor','name','valorcomp','saldo','valpag','curso','ticurso','grado','clasvehicu','classervicio','fingrepatio','entrepatio','fentrepatio','cargsalipatio','funciosalipatio','fsolaudien','faudien','asistenaudien','inspeccaudien','funcioaudien','licensuspen','licencance']\n",
    "df4.columns=['ncomp','tcomp','fcomp','hcomp','fnotifi','dirinfrac','ciudad','infrac','cepo','metro','chale','casco','pico','resolu111','licencia','tipodoc','ncedula','inmobi','grua','usuario','placaa','entidad','nomagen','estado','tiresol','nresol','fresol','fpago','facuerdo','placac','primnom','segnom','primapell','segapell','cel','dirinfractor','name','valorcomp','saldo','valpag','curso','ticurso','grado','clasvehicu','classervicio','fingrepatio','entrepatio','fentrepatio','cargsalipatio','funciosalipatio','fsolaudien','faudien','asistenaudien','inspeccaudien','funcioaudien','licensuspen','licencance']\n",
    "df5.columns=['ncomp','tcomp','fcomp','hcomp','fnotifi','dirinfrac','ciudad','infrac','cepo','metro','chale','casco','pico','resolu111','licencia','tipodoc','ncedula','inmobi','grua','usuario','placaa','entidad','nomagen','estado','tiresol','nresol','fresol','fpago','facuerdo','placac','primnom','segnom','primapell','segapell','cel','dirinfractor','name','valorcomp','saldo','valpag','curso','ticurso','grado','clasvehicu','classervicio','fingrepatio','entrepatio','fentrepatio','cargsalipatio','funciosalipatio','fsolaudien','faudien','asistenaudien','inspeccaudien','funcioaudien','licensuspen','licencance']\n",
    "df6.columns=['ncomp','tcomp','fcomp','hcomp','fnotifi','dirinfrac','ciudad','infrac','cepo','metro','chale','casco','pico','resolu111','licencia','tipodoc','ncedula','inmobi','grua','usuario','placaa','entidad','nomagen','estado','tiresol','nresol','fresol','fpago','facuerdo','placac','primnom','segnom','primapell','segapell','cel','dirinfractor','name','valorcomp','saldo','valpag','curso','ticurso','grado','clasvehicu','classervicio','fingrepatio','entrepatio','fentrepatio','cargsalipatio','funciosalipatio','fsolaudien','faudien','asistenaudien','inspeccaudien','funcioaudien','licensuspen','licencance']\n",
    "df7.columns=['ncomp','tcomp','fcomp','hcomp','fnotifi','dirinfrac','ciudad','infrac','cepo','metro','chale','casco','pico','resolu111','licencia','tipodoc','ncedula','inmobi','grua','usuario','placaa','entidad','nomagen','estado','tiresol','nresol','fresol','fpago','facuerdo','placac','primnom','segnom','primapell','segapell','cel','dirinfractor','name','valorcomp','saldo','valpag','curso','ticurso','grado','clasvehicu','classervicio','fingrepatio','entrepatio','fentrepatio','cargsalipatio','funciosalipatio','fsolaudien','faudien','asistenaudien','inspeccaudien','funcioaudien','licensuspen','licencance']\n",
    "df8.columns=['ncomp','tcomp','fcomp','hcomp','fnotifi','dirinfrac','ciudad','infrac','cepo','metro','chale','casco','pico','resolu111','licencia','tipodoc','ncedula','inmobi','grua','usuario','placaa','entidad','nomagen','estado','tiresol','nresol','fresol','fpago','facuerdo','placac','primnom','segnom','primapell','segapell','cel','dirinfractor','name','valorcomp','saldo','valpag','curso','ticurso','grado','clasvehicu','classervicio','fingrepatio','entrepatio','fentrepatio','cargsalipatio','funciosalipatio','fsolaudien','faudien','asistenaudien','inspeccaudien','funcioaudien','licensuspen','licencance']\n"
   ]
  },
  {
   "cell_type": "code",
   "execution_count": 79,
   "metadata": {},
   "outputs": [
    {
     "data": {
      "text/plain": [
       "Index(['ncomp', 'tcomp', 'fcomp', 'hcomp', 'fnotifi', 'dirinfrac', 'ciudad',\n",
       "       'infrac', 'cepo', 'metro', 'chale', 'casco', 'pico', 'resolu111',\n",
       "       'licencia', 'tipodoc', 'ncedula', 'inmobi', 'grua', 'usuario', 'placaa',\n",
       "       'entidad', 'nomagen', 'estado', 'tiresol', 'nresol', 'fresol', 'fpago',\n",
       "       'facuerdo', 'placac', 'primnom', 'segnom', 'primapell', 'segapell',\n",
       "       'cel', 'dirinfractor', 'name', 'valorcomp', 'saldo', 'valpag', 'curso',\n",
       "       'ticurso', 'grado', 'clasvehicu', 'classervicio', 'fingrepatio',\n",
       "       'entrepatio', 'fentrepatio', 'cargsalipatio', 'funciosalipatio',\n",
       "       'fsolaudien', 'faudien', 'asistenaudien', 'inspeccaudien',\n",
       "       'funcioaudien', 'licensuspen', 'licencance'],\n",
       "      dtype='object')"
      ]
     },
     "execution_count": 79,
     "metadata": {},
     "output_type": "execute_result"
    }
   ],
   "source": [
    "df1.columns"
   ]
  },
  {
   "cell_type": "markdown",
   "metadata": {},
   "source": [
    "### quitando n/a (datos vacios) de los nombres y juntando columnas nombres y apellidos de los infractores "
   ]
  },
  {
   "cell_type": "markdown",
   "metadata": {},
   "source": [
    "* por comodidad se trabajara con el primer nombre y los dos apellidos para cada conductor\n",
    "* sin embargo se deja el codigo comentado de la limpieza de la columna del segundo nombre por si se desea utilizar"
   ]
  },
  {
   "cell_type": "code",
   "execution_count": 82,
   "metadata": {},
   "outputs": [],
   "source": [
    "primnomsna1= df1[\"primnom\"].fillna(value=\"\")\n",
    "#segnomsna = dataLimpio1[\"segnom\"].fillna(value=\"\")\n",
    "primapellna1 = df1[\"primapell\"].fillna(value=\"\")\n",
    "segapellna1 = df1[\"segapell\"].fillna(value=\"\")\n",
    "\n",
    "primnomsna2= df2[\"primnom\"].fillna(value=\"\")\n",
    "#segnomsna = dataLimpio1[\"segnom\"].fillna(value=\"\")\n",
    "primapellna2 = df2[\"primapell\"].fillna(value=\"\")\n",
    "segapellna2 = df2[\"segapell\"].fillna(value=\"\")\n",
    "\n",
    "primnomsna3= df3[\"primnom\"].fillna(value=\"\")\n",
    "#segnomsna = dataLimpio1[\"segnom\"].fillna(value=\"\")\n",
    "primapellna3 = df3[\"primapell\"].fillna(value=\"\")\n",
    "segapellna3 = df3[\"segapell\"].fillna(value=\"\")\n",
    "\n",
    "primnomsna4= df4[\"primnom\"].fillna(value=\"\")\n",
    "#segnomsna = dataLimpio1[\"segnom\"].fillna(value=\"\")\n",
    "primapellna4 = df4[\"primapell\"].fillna(value=\"\")\n",
    "segapellna4 = df4[\"segapell\"].fillna(value=\"\")\n",
    "\n",
    "primnomsna5= df5[\"primnom\"].fillna(value=\"\")\n",
    "#segnomsna = dataLimpio1[\"segnom\"].fillna(value=\"\")\n",
    "primapellna5 = df5[\"primapell\"].fillna(value=\"\")\n",
    "segapellna5 = df5[\"segapell\"].fillna(value=\"\")\n",
    "\n",
    "primnomsna6= df6[\"primnom\"].fillna(value=\"\")\n",
    "#segnomsna = dataLimpio1[\"segnom\"].fillna(value=\"\")\n",
    "primapellna6 = df6[\"primapell\"].fillna(value=\"\")\n",
    "segapellna6 = df6[\"segapell\"].fillna(value=\"\")\n",
    "\n",
    "primnomsna7= df7[\"primnom\"].fillna(value=\"\")\n",
    "#segnomsna = dataLimpio1[\"segnom\"].fillna(value=\"\")\n",
    "primapellna7 = df7[\"primapell\"].fillna(value=\"\")\n",
    "segapellna7 = df7[\"segapell\"].fillna(value=\"\")\n",
    "\n",
    "primnomsna8= df8[\"primnom\"].fillna(value=\"\")\n",
    "#segnomsna = dataLimpio1[\"segnom\"].fillna(value=\"\")\n",
    "primapellna8 = df8[\"primapell\"].fillna(value=\"\")\n",
    "segapellna8 = df8[\"segapell\"].fillna(value=\"\")"
   ]
  },
  {
   "cell_type": "markdown",
   "metadata": {},
   "source": [
    "### concatenando nombres y apellidos para encontrar frecuencias de repeticion (es decir numero de partes que tiene cada persona)"
   ]
  },
  {
   "cell_type": "markdown",
   "metadata": {},
   "source": [
    "* Además verificamos que la longitud de los datasets sean la misma que habiamos cargado originalmente, asi nos aseguramos que no perdemos ningun dato"
   ]
  },
  {
   "cell_type": "code",
   "execution_count": 84,
   "metadata": {},
   "outputs": [
    {
     "data": {
      "text/plain": [
       "(58587, 46768, 43509, 47763, 49028, 58593, 62783, 8594)"
      ]
     },
     "execution_count": 84,
     "metadata": {},
     "output_type": "execute_result"
    }
   ],
   "source": [
    "df1[\"nameapell\"] = primnomsna1.astype(str)+\" \"+ primapellna1.astype(str)+ \" \" + segapellna1.astype(str)\n",
    "\n",
    "df2[\"nameapell\"] = primnomsna2.astype(str)+\" \"+ primapellna2.astype(str)+ \" \" + segapellna2.astype(str)\n",
    "\n",
    "df3[\"nameapell\"] = primnomsna3.astype(str)+\" \"+ primapellna3.astype(str)+ \" \" + segapellna3.astype(str)\n",
    "\n",
    "df4[\"nameapell\"] = primnomsna4.astype(str)+\" \"+ primapellna4.astype(str)+ \" \" + segapellna4.astype(str)\n",
    "\n",
    "df5[\"nameapell\"] = primnomsna5.astype(str)+\" \"+ primapellna5.astype(str)+ \" \" + segapellna5.astype(str)\n",
    "\n",
    "df6[\"nameapell\"] = primnomsna6.astype(str)+\" \"+ primapellna6.astype(str)+ \" \" + segapellna6.astype(str)\n",
    "\n",
    "df7[\"nameapell\"] = primnomsna7.astype(str)+\" \"+ primapellna7.astype(str)+ \" \" + segapellna7.astype(str)\n",
    "\n",
    "df8[\"nameapell\"] = primnomsna8.astype(str)+\" \"+ primapellna8.astype(str)+ \" \" + segapellna8.astype(str)\n",
    "\n",
    "len(df1),len(df2), len(df3),len(df4),len(df5),len(df6),len(df7),len(df8)"
   ]
  },
  {
   "cell_type": "markdown",
   "metadata": {},
   "source": [
    "### como hay bastantes, para obtener una grafica ahora, debemos limpiar mas el dataset:"
   ]
  },
  {
   "cell_type": "markdown",
   "metadata": {},
   "source": [
    "* extraemos un nuevo dataset solo con los nombres\n",
    "* le añadimos la columna con su respectiva frecuencia\n",
    "* le añadimos la placa que tenia en el momento de la infracción y la frecuencia de la placa"
   ]
  },
  {
   "cell_type": "code",
   "execution_count": null,
   "metadata": {},
   "outputs": [],
   "source": []
  }
 ],
 "metadata": {
  "kernelspec": {
   "display_name": "Python 3",
   "language": "python",
   "name": "python3"
  },
  "language_info": {
   "codemirror_mode": {
    "name": "ipython",
    "version": 3
   },
   "file_extension": ".py",
   "mimetype": "text/x-python",
   "name": "python",
   "nbconvert_exporter": "python",
   "pygments_lexer": "ipython3",
   "version": "3.7.5"
  }
 },
 "nbformat": 4,
 "nbformat_minor": 2
}
